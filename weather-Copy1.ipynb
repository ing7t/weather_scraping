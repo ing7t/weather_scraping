{
 "cells": [
  {
   "cell_type": "markdown",
   "metadata": {},
   "source": [
    "This is a page rendered by Javascript; to scrape it we need a different approach.\n",
    "\n",
    "https://weather.gc.ca/provincialsummary_table/index_e.html?prov=mb&page=hourly"
   ]
  },
  {
   "cell_type": "markdown",
   "metadata": {},
   "source": [
    "When a browser wants to access a webpage, it sends a request to the server on which the files that make up the webpage are located. The server then sends a response consisting of the page’s source code back to the browser. The browser then interprets the HTML, CSS, etc, in the source code, allows any Javascript to run, and displays the page.\n",
    "\n",
    "Of the parts that comprise the source code of a webpage, the Javascript code is of particular interest to us in this article. When a page is loaded into a browser, it becomes a document object, whose HTML elements, or element nodes, Javascript can access. As it runs, Javascript can create new HTML elements and append them to the document. A page on which this occurs is called a page rendered by Javascript. The new elements will not be present in the original source code of the page, the code that you see when you right-click and press “view page source”; but they will be present in the code that you see if you download the page as an HTML document and open it in a text editor, or in the code in the “elements” tab in your browser’s developer tools. This HTML code, which can be retrieved by JavaScript using the DOM's innerHTMLproperty, constitutes the code of the completed webpage that the browser displays after the Javascript has finished running, and has all of the data that you need for scraping.\n",
    "\n",
    "Python cannot access this code without the support of a browser. When a Python library such as urllib or requests sends a request to a server, it receives the source code of the webpage, just like a browser does. However, Python cannot run Javascript and allow it to create the elements that hold the content that you need to scrape; the most it can do is parse the source code. In a situation like this, one in which you have to scrape content loaded dynamically by Javascript, content that is not present in the source code of the page, the Python module Selenium comes in handy."
   ]
  },
  {
   "cell_type": "markdown",
   "metadata": {},
   "source": [
    "\n",
    "**Selenium** is a module that allows you to access a web browser through Python. With Selenium, you can use Python code to open a web browser, navigate to a page, log in (if needed), and return the page's inner HTML, from which you can then scrape the data you need. In the following, I will describe how to do each of these steps.\n"
   ]
  },
  {
   "cell_type": "markdown",
   "metadata": {},
   "source": [
    "### Use Selenium to open a web browser and navigate to a page\n",
    "\n",
    "Whatever browser you choose to use, make sure that you have it already installed on your computer. Firefox is most commonly used with Selenium, but you can use others if you install the proper web driver and put it in your working directory. For example, if you want to use Chrome, the browser that I will be using in this example, download [***chromedriver.exe***](https://sites.google.com/a/chromium.org/chromedriver/downloads) and put it in the folder where your Python script is. Webdrivers for other browsers are available [***here***](http://www.seleniumhq.org/download/)."
   ]
  },
  {
   "cell_type": "code",
   "execution_count": 32,
   "metadata": {
    "collapsed": true
   },
   "outputs": [],
   "source": [
    "import re\n",
    "import time\n",
    "import requests\n",
    "import pandas as pd\n",
    "from random import randint\n",
    "from bs4 import BeautifulSoup\n",
    "from selenium import webdriver\n",
    "\n",
    "\n",
    "\n",
    "# Initialize the browser object\n",
    "browser = webdriver.Chrome('C:\\\\Users\\\\ing7t\\\\Downloads\\\\chromedriver.exe')\n",
    "\n",
    "#prov_list = ['AB','BC','MB','NB','NL','NS','NT','NU','ON','PE','QC','SK','YT']\n",
    "prov_list = ['QC','SK','YT']\n",
    "\n",
    "# initialize lists\n",
    "prov_ter_names = []        # names of the provinces or territories\n",
    "stations = []              # weather stations locations\n",
    "stations_codes = []        # weather station codes as per weather.gc.ca\n",
    "lat = []                   # weather stations latitudes\n",
    "lon = []                   # weather stations longitudes\n",
    "temps = []                 # reported air temperatures\n",
    "\n",
    "# some regex to extract numbers (signed float, integers) from text\n",
    "pattern = r\"[-+]?\\d*\\.\\d+|[-+]?\\d+\"\n",
    "rx = re.compile(pattern, re.VERBOSE)\n",
    "\n",
    "#url_station = 'https://weather.gc.ca/past_conditions/index_e.html?station=' + station_code\n",
    "\n",
    "#headers = {\"Mozilla/5.0 (Windows NT 6.1; Win64; x64) AppleWebKit/537.36 (KHTML, like Gecko) Chrome/64.0.3282.140 Safari/537.36\"}\n",
    "headers = {'User-Agent': 'Mozilla/5.0'}\n",
    "\n",
    "# extract data from each province/territory weather.gc.ca web page\n",
    "for prov in prov_list:\n",
    "    \n",
    "    url = 'https://weather.gc.ca/provincialsummary_table/index_e.html?prov=' + prov + '&page=hourly'\n",
    "   \n",
    "    browser.get(url)\n",
    "    \n",
    "    browser.implicitly_wait(30)    \n",
    "\n",
    "    # give some time to page to load otherwise execute_script method will fail\n",
    "    time.sleep(5)\n",
    "    \n",
    "    innerHTML = browser.execute_script(\"return document.body.innerHTML\")\n",
    "    #time.sleep(10)\n",
    "        \n",
    "    soup = BeautifulSoup(innerHTML,'html.parser')\n",
    "    \n",
    "    soup_table = soup.find(\"table\",{\"id\":\"hourtable\"})\n",
    "\n",
    "    # 1. get the explicit name of the Province or Territory using CSS selector\n",
    "    prov_ter_name = soup.select('#wb-cont')[0].getText().split('-')[0].strip()\n",
    "    \n",
    "    # 2. get the weather stations\n",
    "    soup_stations = soup_table.find_all('a',{'title':'Display Past 24 Hour hourly observations for this station'})\n",
    "    prov_stations = [station.text + ' (' + prov + ')' for station in soup_stations]\n",
    "    stations.extend(prov_stations)\n",
    "    \n",
    "    # 3. Get weather stations codes and (Lat,Lon) coordinates\n",
    "    prov_stations_codes = [tag['href'].split('=')[1] for tag in soup_stations]\n",
    "    stations_codes.extend(prov_stations_codes)\n",
    "    \n",
    "    for station_code in prov_stations_codes:\n",
    "        \n",
    "        # add name of province or territory every time we use a station code\n",
    "        prov_ter_names.append(prov_ter_name)\n",
    "        \n",
    "        # create url for the station web page\n",
    "        url_station = 'https://weather.gc.ca/past_conditions/index_e.html?station=' + station_code\n",
    "        response = requests.get(url_station,headers=headers)\n",
    "        \n",
    "        # create soup\n",
    "        soup_position = BeautifulSoup(response.content,'lxml')\n",
    "        \n",
    "        # grab station's coordinates\n",
    "        station_lat = soup_position.body.main.find_all('p')[1].text.split('|')[0]\n",
    "        station_lon = soup_position.body.main.find_all('p')[1].text.split('|')[1]\n",
    "        \n",
    "        # add station's coordinates to the big list\n",
    "        lat.extend(rx.findall(station_lat))\n",
    "        lon.extend(rx.findall(station_lon))\n",
    "    \n",
    "    # 4. Get the air temperatures at each station\n",
    "    soup_temps = soup_table.find_all('td',{'headers':\"header4\"})\n",
    "    prov_temps = [td.text.split() for td in soup_temps]\n",
    "    # some stations have no temperature shown, giving an empty string; \n",
    "    # this in turn gives and IndexError when called by index; replace empty values with an outlier (e.g. 1000)\n",
    "    t = []\n",
    "    for val in prov_temps:\n",
    "        try:\n",
    "            t.append(val[0])\n",
    "        except IndexError:\n",
    "            t.append(1000)\n",
    "    temps.extend(t)\n",
    "    \n",
    "# close browser session    \n",
    "browser.quit()\n",
    "\n",
    "# build a pandas Data Frame with the scraped data and set the columns in the right order\n",
    "weather = pd.DataFrame({'Province/Territory':prov_ter_names,'Station':stations, 'Code': stations_codes, 'Latitude':lat, 'Longitude':lon, 'Temperature (deg C)':temps},\n",
    "                       columns =['Code','Station','Province/Territory','Latitude','Longitude','Temperature (deg C)'])    \n",
    "# Set index column\n",
    "weather.set_index('Code',inplace=True)\n",
    "\n",
    "# set data type\n",
    "weather['Latitude']=weather['Latitude'].astype(float)\n",
    "weather['Longitude'] = weather['Longitude'].astype(float)\n",
    "weather['Temperature (deg C)']=weather['Temperature (deg C)'].astype(int)\n",
    "\n",
    "# Save the scraped data set for future use\n",
    "weather.to_csv('weather.csv',encoding='utf-8')\n"
   ]
  },
  {
   "cell_type": "code",
   "execution_count": 22,
   "metadata": {},
   "outputs": [
    {
     "name": "stdout",
     "output_type": "stream",
     "text": [
      "<class 'pandas.core.frame.DataFrame'>\n",
      "Index: 325 entries, tnk to yxy\n",
      "Data columns (total 5 columns):\n",
      "Station                325 non-null object\n",
      "Province/Territory     325 non-null object\n",
      "Latitude               325 non-null float64\n",
      "Longitude              325 non-null float64\n",
      "Temperature (deg C)    325 non-null int32\n",
      "dtypes: float64(2), int32(1), object(2)\n",
      "memory usage: 14.0+ KB\n",
      "None\n"
     ]
    }
   ],
   "source": [
    "print(weather.info())"
   ]
  },
  {
   "cell_type": "code",
   "execution_count": 23,
   "metadata": {},
   "outputs": [
    {
     "data": {
      "text/html": [
       "<div>\n",
       "<style>\n",
       "    .dataframe thead tr:only-child th {\n",
       "        text-align: right;\n",
       "    }\n",
       "\n",
       "    .dataframe thead th {\n",
       "        text-align: left;\n",
       "    }\n",
       "\n",
       "    .dataframe tbody tr th {\n",
       "        vertical-align: top;\n",
       "    }\n",
       "</style>\n",
       "<table border=\"1\" class=\"dataframe\">\n",
       "  <thead>\n",
       "    <tr style=\"text-align: right;\">\n",
       "      <th></th>\n",
       "      <th>Latitude</th>\n",
       "      <th>Longitude</th>\n",
       "      <th>Temperature (deg C)</th>\n",
       "    </tr>\n",
       "  </thead>\n",
       "  <tbody>\n",
       "    <tr>\n",
       "      <th>count</th>\n",
       "      <td>325.000000</td>\n",
       "      <td>325.000000</td>\n",
       "      <td>325.000000</td>\n",
       "    </tr>\n",
       "    <tr>\n",
       "      <th>mean</th>\n",
       "      <td>49.872769</td>\n",
       "      <td>85.117477</td>\n",
       "      <td>1.523077</td>\n",
       "    </tr>\n",
       "    <tr>\n",
       "      <th>std</th>\n",
       "      <td>5.370932</td>\n",
       "      <td>18.226063</td>\n",
       "      <td>125.380791</td>\n",
       "    </tr>\n",
       "    <tr>\n",
       "      <th>min</th>\n",
       "      <td>42.030000</td>\n",
       "      <td>57.190000</td>\n",
       "      <td>-40.000000</td>\n",
       "    </tr>\n",
       "    <tr>\n",
       "      <th>25%</th>\n",
       "      <td>46.050000</td>\n",
       "      <td>72.520000</td>\n",
       "      <td>-23.000000</td>\n",
       "    </tr>\n",
       "    <tr>\n",
       "      <th>50%</th>\n",
       "      <td>49.030000</td>\n",
       "      <td>79.420000</td>\n",
       "      <td>-11.000000</td>\n",
       "    </tr>\n",
       "    <tr>\n",
       "      <th>75%</th>\n",
       "      <td>51.670000</td>\n",
       "      <td>93.730000</td>\n",
       "      <td>-5.000000</td>\n",
       "    </tr>\n",
       "    <tr>\n",
       "      <th>max</th>\n",
       "      <td>69.610000</td>\n",
       "      <td>140.870000</td>\n",
       "      <td>1000.000000</td>\n",
       "    </tr>\n",
       "  </tbody>\n",
       "</table>\n",
       "</div>"
      ],
      "text/plain": [
       "         Latitude   Longitude  Temperature (deg C)\n",
       "count  325.000000  325.000000           325.000000\n",
       "mean    49.872769   85.117477             1.523077\n",
       "std      5.370932   18.226063           125.380791\n",
       "min     42.030000   57.190000           -40.000000\n",
       "25%     46.050000   72.520000           -23.000000\n",
       "50%     49.030000   79.420000           -11.000000\n",
       "75%     51.670000   93.730000            -5.000000\n",
       "max     69.610000  140.870000          1000.000000"
      ]
     },
     "execution_count": 23,
     "metadata": {},
     "output_type": "execute_result"
    }
   ],
   "source": [
    "weather.describe()"
   ]
  },
  {
   "cell_type": "code",
   "execution_count": 24,
   "metadata": {},
   "outputs": [
    {
     "data": {
      "text/html": [
       "<div>\n",
       "<style>\n",
       "    .dataframe thead tr:only-child th {\n",
       "        text-align: right;\n",
       "    }\n",
       "\n",
       "    .dataframe thead th {\n",
       "        text-align: left;\n",
       "    }\n",
       "\n",
       "    .dataframe tbody tr th {\n",
       "        vertical-align: top;\n",
       "    }\n",
       "</style>\n",
       "<table border=\"1\" class=\"dataframe\">\n",
       "  <thead>\n",
       "    <tr style=\"text-align: right;\">\n",
       "      <th></th>\n",
       "      <th>Station</th>\n",
       "      <th>Province/Territory</th>\n",
       "      <th>Latitude</th>\n",
       "      <th>Longitude</th>\n",
       "      <th>Temperature (deg C)</th>\n",
       "    </tr>\n",
       "    <tr>\n",
       "      <th>Code</th>\n",
       "      <th></th>\n",
       "      <th></th>\n",
       "      <th></th>\n",
       "      <th></th>\n",
       "      <th></th>\n",
       "    </tr>\n",
       "  </thead>\n",
       "  <tbody>\n",
       "    <tr>\n",
       "      <th>tnk</th>\n",
       "      <td>Algonquin Park East Gate (ON)</td>\n",
       "      <td>Ontario</td>\n",
       "      <td>45.53</td>\n",
       "      <td>78.27</td>\n",
       "      <td>-8</td>\n",
       "    </tr>\n",
       "    <tr>\n",
       "      <th>wyw</th>\n",
       "      <td>Armstrong (ON)</td>\n",
       "      <td>Ontario</td>\n",
       "      <td>50.29</td>\n",
       "      <td>88.91</td>\n",
       "      <td>-24</td>\n",
       "    </tr>\n",
       "    <tr>\n",
       "      <th>yyw</th>\n",
       "      <td>Armstrong Airport (ON)</td>\n",
       "      <td>Ontario</td>\n",
       "      <td>50.29</td>\n",
       "      <td>88.91</td>\n",
       "      <td>-22</td>\n",
       "    </tr>\n",
       "    <tr>\n",
       "      <th>wch</th>\n",
       "      <td>Atikokan (ON)</td>\n",
       "      <td>Ontario</td>\n",
       "      <td>48.76</td>\n",
       "      <td>91.63</td>\n",
       "      <td>-24</td>\n",
       "    </tr>\n",
       "    <tr>\n",
       "      <th>yat</th>\n",
       "      <td>Attawapiskat Airport (ON)</td>\n",
       "      <td>Ontario</td>\n",
       "      <td>52.93</td>\n",
       "      <td>82.43</td>\n",
       "      <td>-27</td>\n",
       "    </tr>\n",
       "  </tbody>\n",
       "</table>\n",
       "</div>"
      ],
      "text/plain": [
       "                            Station Province/Territory  Latitude  Longitude  \\\n",
       "Code                                                                          \n",
       "tnk   Algonquin Park East Gate (ON)            Ontario     45.53      78.27   \n",
       "wyw                  Armstrong (ON)            Ontario     50.29      88.91   \n",
       "yyw          Armstrong Airport (ON)            Ontario     50.29      88.91   \n",
       "wch                   Atikokan (ON)            Ontario     48.76      91.63   \n",
       "yat       Attawapiskat Airport (ON)            Ontario     52.93      82.43   \n",
       "\n",
       "      Temperature (deg C)  \n",
       "Code                       \n",
       "tnk                    -8  \n",
       "wyw                   -24  \n",
       "yyw                   -22  \n",
       "wch                   -24  \n",
       "yat                   -27  "
      ]
     },
     "execution_count": 24,
     "metadata": {},
     "output_type": "execute_result"
    }
   ],
   "source": [
    "weather.head()"
   ]
  },
  {
   "cell_type": "code",
   "execution_count": 25,
   "metadata": {},
   "outputs": [
    {
     "data": {
      "text/html": [
       "<div>\n",
       "<style>\n",
       "    .dataframe thead tr:only-child th {\n",
       "        text-align: right;\n",
       "    }\n",
       "\n",
       "    .dataframe thead th {\n",
       "        text-align: left;\n",
       "    }\n",
       "\n",
       "    .dataframe tbody tr th {\n",
       "        vertical-align: top;\n",
       "    }\n",
       "</style>\n",
       "<table border=\"1\" class=\"dataframe\">\n",
       "  <thead>\n",
       "    <tr style=\"text-align: right;\">\n",
       "      <th></th>\n",
       "      <th>Station</th>\n",
       "      <th>Province/Territory</th>\n",
       "      <th>Latitude</th>\n",
       "      <th>Longitude</th>\n",
       "      <th>Temperature (deg C)</th>\n",
       "    </tr>\n",
       "    <tr>\n",
       "      <th>Code</th>\n",
       "      <th></th>\n",
       "      <th></th>\n",
       "      <th></th>\n",
       "      <th></th>\n",
       "      <th></th>\n",
       "    </tr>\n",
       "  </thead>\n",
       "  <tbody>\n",
       "    <tr>\n",
       "      <th>yzw</th>\n",
       "      <td>Teslin Airport (YT)</td>\n",
       "      <td>Yukon</td>\n",
       "      <td>60.17</td>\n",
       "      <td>132.74</td>\n",
       "      <td>-19</td>\n",
       "    </tr>\n",
       "    <tr>\n",
       "      <th>xqh</th>\n",
       "      <td>Watson Lake (YT)</td>\n",
       "      <td>Yukon</td>\n",
       "      <td>60.12</td>\n",
       "      <td>128.83</td>\n",
       "      <td>-21</td>\n",
       "    </tr>\n",
       "    <tr>\n",
       "      <th>yqh</th>\n",
       "      <td>Watson Lake Airport (YT)</td>\n",
       "      <td>Yukon</td>\n",
       "      <td>60.12</td>\n",
       "      <td>128.82</td>\n",
       "      <td>-21</td>\n",
       "    </tr>\n",
       "    <tr>\n",
       "      <th>vxy</th>\n",
       "      <td>Whitehorse (YT)</td>\n",
       "      <td>Yukon</td>\n",
       "      <td>60.73</td>\n",
       "      <td>135.10</td>\n",
       "      <td>-13</td>\n",
       "    </tr>\n",
       "    <tr>\n",
       "      <th>yxy</th>\n",
       "      <td>Whitehorse Airport (YT)</td>\n",
       "      <td>Yukon</td>\n",
       "      <td>60.71</td>\n",
       "      <td>135.07</td>\n",
       "      <td>-14</td>\n",
       "    </tr>\n",
       "  </tbody>\n",
       "</table>\n",
       "</div>"
      ],
      "text/plain": [
       "                       Station Province/Territory  Latitude  Longitude  \\\n",
       "Code                                                                     \n",
       "yzw        Teslin Airport (YT)              Yukon     60.17     132.74   \n",
       "xqh           Watson Lake (YT)              Yukon     60.12     128.83   \n",
       "yqh   Watson Lake Airport (YT)              Yukon     60.12     128.82   \n",
       "vxy            Whitehorse (YT)              Yukon     60.73     135.10   \n",
       "yxy    Whitehorse Airport (YT)              Yukon     60.71     135.07   \n",
       "\n",
       "      Temperature (deg C)  \n",
       "Code                       \n",
       "yzw                   -19  \n",
       "xqh                   -21  \n",
       "yqh                   -21  \n",
       "vxy                   -13  \n",
       "yxy                   -14  "
      ]
     },
     "execution_count": 25,
     "metadata": {},
     "output_type": "execute_result"
    }
   ],
   "source": [
    "weather.tail()"
   ]
  },
  {
   "cell_type": "code",
   "execution_count": 26,
   "metadata": {
    "collapsed": true
   },
   "outputs": [],
   "source": [
    "import pandas as pd\n",
    "data = pd.read_csv('weather.csv')"
   ]
  },
  {
   "cell_type": "code",
   "execution_count": 27,
   "metadata": {},
   "outputs": [
    {
     "data": {
      "text/html": [
       "<div>\n",
       "<style>\n",
       "    .dataframe thead tr:only-child th {\n",
       "        text-align: right;\n",
       "    }\n",
       "\n",
       "    .dataframe thead th {\n",
       "        text-align: left;\n",
       "    }\n",
       "\n",
       "    .dataframe tbody tr th {\n",
       "        vertical-align: top;\n",
       "    }\n",
       "</style>\n",
       "<table border=\"1\" class=\"dataframe\">\n",
       "  <thead>\n",
       "    <tr style=\"text-align: right;\">\n",
       "      <th></th>\n",
       "      <th>Station</th>\n",
       "      <th>Temperature (deg C)</th>\n",
       "    </tr>\n",
       "  </thead>\n",
       "  <tbody>\n",
       "    <tr>\n",
       "      <th>min</th>\n",
       "      <td>NaN</td>\n",
       "      <td>-40.0</td>\n",
       "    </tr>\n",
       "    <tr>\n",
       "      <th>max</th>\n",
       "      <td>NaN</td>\n",
       "      <td>1000.0</td>\n",
       "    </tr>\n",
       "  </tbody>\n",
       "</table>\n",
       "</div>"
      ],
      "text/plain": [
       "     Station  Temperature (deg C)\n",
       "min      NaN                -40.0\n",
       "max      NaN               1000.0"
      ]
     },
     "execution_count": 27,
     "metadata": {},
     "output_type": "execute_result"
    }
   ],
   "source": [
    "data.describe().loc[['min', 'max'], ['Station','Temperature (deg C)']]"
   ]
  },
  {
   "cell_type": "code",
   "execution_count": 28,
   "metadata": {},
   "outputs": [
    {
     "data": {
      "text/plain": [
       "dtype('O')"
      ]
     },
     "execution_count": 28,
     "metadata": {},
     "output_type": "execute_result"
    }
   ],
   "source": [
    "weather['Province/Territory'].dtype"
   ]
  },
  {
   "cell_type": "code",
   "execution_count": 29,
   "metadata": {},
   "outputs": [
    {
     "data": {
      "text/plain": [
       "Index(['Station', 'Province/Territory', 'Latitude', 'Longitude',\n",
       "       'Temperature (deg C)'],\n",
       "      dtype='object')"
      ]
     },
     "execution_count": 29,
     "metadata": {},
     "output_type": "execute_result"
    }
   ],
   "source": [
    "weather.columns"
   ]
  },
  {
   "cell_type": "code",
   "execution_count": 30,
   "metadata": {},
   "outputs": [
    {
     "data": {
      "text/plain": [
       "dtype('float64')"
      ]
     },
     "execution_count": 30,
     "metadata": {},
     "output_type": "execute_result"
    }
   ],
   "source": [
    "weather['Latitude'].dtype"
   ]
  },
  {
   "cell_type": "code",
   "execution_count": 31,
   "metadata": {},
   "outputs": [
    {
     "data": {
      "text/plain": [
       "dtype('int32')"
      ]
     },
     "execution_count": 31,
     "metadata": {},
     "output_type": "execute_result"
    }
   ],
   "source": [
    "weather['Temperature (deg C)'].dtype"
   ]
  },
  {
   "cell_type": "code",
   "execution_count": 1,
   "metadata": {
    "collapsed": true
   },
   "outputs": [],
   "source": [
    "import pandas as pd"
   ]
  },
  {
   "cell_type": "code",
   "execution_count": 2,
   "metadata": {
    "collapsed": true
   },
   "outputs": [],
   "source": [
    "data = pd.read_csv('weather.csv')"
   ]
  },
  {
   "cell_type": "code",
   "execution_count": 3,
   "metadata": {},
   "outputs": [
    {
     "name": "stdout",
     "output_type": "stream",
     "text": [
      "Using matplotlib backend: Qt5Agg\n"
     ]
    }
   ],
   "source": [
    "%matplotlib\n",
    "\n",
    "\n",
    "import cartopy.crs as ccrs\n",
    "import matplotlib.pyplot as plt\n",
    "\n",
    "ax = plt.axes(projection=ccrs.Robinson())\n",
    "ax.background_img()\n",
    "\n",
    "plt.show()"
   ]
  },
  {
   "cell_type": "code",
   "execution_count": 1,
   "metadata": {},
   "outputs": [
    {
     "data": {
      "image/png": "[encoded data removed]",
      "text/plain": [
       "<matplotlib.figure.Figure at 0x4bc1390>"
      ]
     },
     "metadata": {},
     "output_type": "display_data"
    }
   ],
   "source": [
    "\n",
    "import cartopy.crs as ccrs\n",
    "import matplotlib.pyplot as plt\n",
    "\n",
    "ax = plt.axes(projection=ccrs.PlateCarree())\n",
    "ax.stock_img()\n",
    "\n",
    "ny_lon, ny_lat = -75, 43\n",
    "delhi_lon, delhi_lat = 77.23, 28.61\n",
    "\n",
    "plt.plot([ny_lon, delhi_lon], [ny_lat, delhi_lat],\n",
    "         color='blue', linewidth=2, marker='o',\n",
    "         transform=ccrs.Geodetic(),\n",
    "         )\n",
    "\n",
    "plt.plot([ny_lon, delhi_lon], [ny_lat, delhi_lat],\n",
    "         color='gray', linestyle='--',\n",
    "         transform=ccrs.PlateCarree(),\n",
    "         )\n",
    "\n",
    "plt.text(ny_lon - 3, ny_lat - 12, 'New York',\n",
    "         horizontalalignment='right',\n",
    "         transform=ccrs.Geodetic())\n",
    "\n",
    "plt.text(delhi_lon + 3, delhi_lat - 12, 'Delhi',\n",
    "         horizontalalignment='left',\n",
    "         transform=ccrs.Geodetic())\n",
    "\n",
    "plt.show()"
   ]
  },
  {
   "cell_type": "code",
   "execution_count": null,
   "metadata": {
    "collapsed": true
   },
   "outputs": [],
   "source": []
  },
  {
   "cell_type": "code",
   "execution_count": null,
   "metadata": {
    "collapsed": true
   },
   "outputs": [],
   "source": []
  },
  {
   "cell_type": "code",
   "execution_count": null,
   "metadata": {
    "collapsed": true
   },
   "outputs": [],
   "source": []
  },
  {
   "cell_type": "code",
   "execution_count": null,
   "metadata": {
    "collapsed": true
   },
   "outputs": [],
   "source": []
  },
  {
   "cell_type": "code",
   "execution_count": null,
   "metadata": {
    "collapsed": true
   },
   "outputs": [],
   "source": []
  },
  {
   "cell_type": "code",
   "execution_count": null,
   "metadata": {
    "collapsed": true
   },
   "outputs": [],
   "source": []
  },
  {
   "cell_type": "code",
   "execution_count": null,
   "metadata": {
    "collapsed": true
   },
   "outputs": [],
   "source": []
  },
  {
   "cell_type": "code",
   "execution_count": null,
   "metadata": {
    "collapsed": true
   },
   "outputs": [],
   "source": []
  },
  {
   "cell_type": "code",
   "execution_count": null,
   "metadata": {
    "collapsed": true
   },
   "outputs": [],
   "source": []
  },
  {
   "cell_type": "code",
   "execution_count": null,
   "metadata": {
    "collapsed": true
   },
   "outputs": [],
   "source": []
  },
  {
   "cell_type": "code",
   "execution_count": null,
   "metadata": {
    "collapsed": true
   },
   "outputs": [],
   "source": []
  }
 ],
 "metadata": {
  "kernelspec": {
   "display_name": "Python 3",
   "language": "python",
   "name": "python3"
  },
  "language_info": {
   "codemirror_mode": {
    "name": "ipython",
    "version": 3
   },
   "file_extension": ".py",
   "mimetype": "text/x-python",
   "name": "python",
   "nbconvert_exporter": "python",
   "pygments_lexer": "ipython3",
   "version": "3.6.1"
  }
 },
 "nbformat": 4,
 "nbformat_minor": 2
}
